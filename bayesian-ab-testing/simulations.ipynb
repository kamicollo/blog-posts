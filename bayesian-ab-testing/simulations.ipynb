{
 "cells": [
  {
   "cell_type": "code",
   "execution_count": 1,
   "metadata": {},
   "outputs": [],
   "source": [
    "import scipy.stats as sts\n",
    "import numpy as np\n",
    "import pandas as pd\n",
    "import itertools as itt\n",
    "from tqdm import tqdm\n",
    "\n",
    "\n",
    "rng = np.random.default_rng()\n",
    "\n",
    "class MeanTest:\n",
    "    threshold: float\n",
    "    def __init__(self, confidence=0.95) -> None:\n",
    "        threshold = sts.norm.ppf((1 - confidence) / 2)\n",
    "        self.threshold = threshold\n",
    "    def compute_statistic(self, A,B): \n",
    "        t_statistic, pval = sts.ttest_ind(A, B, equal_var=False)\n",
    "        return t_statistic, pval    \n",
    "    def test(self, A, B):\n",
    "        t_statistic, _ = self.compute_statistic(A,B)\n",
    "        if abs(t_statistic) < abs(self.threshold):\n",
    "            return 0\n",
    "        elif t_statistic > 0:\n",
    "            return 1\n",
    "        else:\n",
    "            return -1\n",
    "\n",
    "class mSPRT:\n",
    "    threshold: float\n",
    "    tau: float\n",
    "    def __init__(self, confidence = 0.95, tau = 0.05) -> None:\n",
    "        self.threshold = 1 - confidence\n",
    "        self.tau_squared = tau ** 2\n",
    "        self.p_value = 1\n",
    "\n",
    "    def compute_statistic(self, A, B):\n",
    "        x_bar = A.mean()\n",
    "        y_bar = B.mean()\n",
    "        n = len(A)\n",
    "        Vn = x_bar * (1 - x_bar) + y_bar * (1 - y_bar) #pooled variance\n",
    "        first_term = np.sqrt(Vn / (Vn + n * self.tau_squared))\n",
    "        second_term = np.exp(\n",
    "            (\n",
    "                (n ** 2 * self.tau_squared * (y_bar - x_bar) ** 2)\n",
    "            ) / \n",
    "            (\n",
    "                2 * Vn * (Vn + n * self.tau_squared)\n",
    "            )\n",
    "        )\n",
    "        return first_term * second_term\n",
    "\n",
    "    def test(self, A, B): \n",
    "        A = np.array(A)\n",
    "        B = np.array(B)       \n",
    "        lr = self.compute_statistic(A, B)\n",
    "        always_valid_p_value = min(self.p_value, 1/lr)\n",
    "        self.p_value = always_valid_p_value\n",
    "        if self.p_value > self.threshold:\n",
    "            return 0\n",
    "        elif A.mean() > B.mean():\n",
    "            return 1\n",
    "        else:\n",
    "            return -1        \n"
   ]
  },
  {
   "cell_type": "code",
   "execution_count": 39,
   "metadata": {},
   "outputs": [],
   "source": [
    "from scipy.integrate import quad\n",
    "from numba import jit\n",
    "import quadpy\n",
    "\n",
    "def rv_diff(t, A_dist, B_dist): \n",
    "    f = lambda i: A_dist.pdf(i) * B_dist.pdf(i-t)\n",
    "    return quadpy.quad(f, a=0, b=1)[0]\n",
    "\n",
    "def cdf_diff(t, A_dist, B_dist):  \n",
    "    f = lambda i: rv_diff(i, A_dist, B_dist)\n",
    "    return quadpy.quad(f, a=-1, b=t)[0]\n",
    "\n",
    "A = np.zeros((1000, 1))\n",
    "B = np.zeros((1000, 1))\n",
    "A[0:500] = 1\n",
    "B[0:600] = 1\n",
    "\n",
    "rng.shuffle(A)\n",
    "rng.shuffle(B)\n",
    "\n",
    "obs_A = (np.sum(A == 1), np.sum(A == 0))\n",
    "obs_B = (np.sum(B == 1), np.sum(B == 0))\n",
    "\n",
    "\n",
    "A_dist = sts.beta(a=1 + obs_A[0], b=1 + obs_A[1])\n",
    "B_dist = sts.beta(a=1 + obs_B[0], b=1 + obs_B[1])\n",
    "\n",
    "Z = A - B\n",
    "mu = Z.mean()\n",
    "sterror = Z.std() / np.sqrt(len(Z))\n",
    "\n",
    "norm_approx = sts.norm(mu, sterror)"
   ]
  },
  {
   "cell_type": "code",
   "execution_count": 40,
   "metadata": {},
   "outputs": [
    {
     "data": {
      "text/plain": [
       "0.0007312379558401348"
      ]
     },
     "execution_count": 40,
     "metadata": {},
     "output_type": "execute_result"
    }
   ],
   "source": [
    "rv_diff(0, A_dist, B_dist)"
   ]
  },
  {
   "cell_type": "code",
   "execution_count": 55,
   "metadata": {},
   "outputs": [],
   "source": [
    "f = lambda i: i ** (obs_A[0] - 1) * (1 - i) ** (obs_A[1] - 1) * (i - 0) ** (obs_B[0] - 1) * (1 - (i - 0)) ** (obs_B[1] - 1) \n",
    "quadpy.quad(f, a=0, b=1)[0]\n",
    "\n",
    "i = 0.5"
   ]
  },
  {
   "cell_type": "code",
   "execution_count": 57,
   "metadata": {},
   "outputs": [
    {
     "data": {
      "text/plain": [
       "6.10987272699921e-151"
      ]
     },
     "execution_count": 57,
     "metadata": {},
     "output_type": "execute_result"
    }
   ],
   "source": [
    "i ** (obs_A[0] - 1) * (1 - i) ** (obs_A[1] - 1)"
   ]
  },
  {
   "cell_type": "code",
   "execution_count": 529,
   "metadata": {},
   "outputs": [],
   "source": [
    "x,y,z = zip(*[(x,norm_approx.pdf(x), rv_diff(x, A_dist, B_dist)) for x in np.linspace(-0.3, 0.1, 100)])"
   ]
  },
  {
   "cell_type": "code",
   "execution_count": 533,
   "metadata": {},
   "outputs": [
    {
     "data": {
      "text/plain": [
       "<matplotlib.legend.Legend at 0x7f066225b1d0>"
      ]
     },
     "execution_count": 533,
     "metadata": {},
     "output_type": "execute_result"
    },
    {
     "data": {
      "image/png": "[encoded data removed]",
      "text/plain": [
       "<Figure size 640x480 with 1 Axes>"
      ]
     },
     "metadata": {},
     "output_type": "display_data"
    }
   ],
   "source": [
    "plt.plot(x,y, label='norm')\n",
    "plt.plot(x,z, label='real', linestyle='dashed')\n",
    "plt.legend()"
   ]
  },
  {
   "cell_type": "code",
   "execution_count": null,
   "metadata": {},
   "outputs": [],
   "source": [
    "class BetaDiffNormApprox:\n",
    "    confidence: float\n",
    "    prior: tuple\n",
    "    def __init__(self, confidence = 0.95, prior = (1, 1)) -> None:\n",
    "        self.confidence = confidence\n",
    "        self.prior = prior\n",
    "\n",
    "    def compute_statistic(self, A, B):\n",
    "        np.default_rng().shuffle(A)\n",
    "        np.default_rng().shuffle(B)\n",
    "        B_posterior = self.compute_posterior(B)\n",
    "\n",
    "        A_dist = sts.beta(a=A_posterior[0], b=A_posterior[1])\n",
    "        B_dist = sts.beta(a=B_posterior[0], b=B_posterior[1])\n",
    "\n",
    "    \n",
    "\n",
    "    \n",
    "\n",
    "    def compute_posterior(self, X):\n",
    "        alpha = self.prior[0] + np.sum(X)\n",
    "        beta = self.prior[1] + len(X) - np.sum(X)\n",
    "        return alpha, beta\n",
    "\n",
    "    def test(self, A, B):\n",
    "        pass\n"
   ]
  },
  {
   "cell_type": "code",
   "execution_count": 25,
   "metadata": {},
   "outputs": [],
   "source": [
    "import arviz as az\n",
    "\n",
    "class BetaDiff:\n",
    "    confidence: float\n",
    "    prior: tuple\n",
    "    int_steps: int\n",
    "    def __init__(self, confidence = 0.95, prior = (1, 1), int_steps = 1000) -> None:\n",
    "        self.confidence = confidence\n",
    "        self.prior = prior\n",
    "        self.int_steps = int_steps\n",
    "\n",
    "    def compute_statistic(self, A, B):\n",
    "        A_posterior = self.compute_posterior(A)\n",
    "        B_posterior = self.compute_posterior(B)\n",
    "        A_dist = sts.beta(a=A_posterior[0], b=A_posterior[1])\n",
    "        B_dist = sts.beta(a=B_posterior[0], b=B_posterior[1])\n",
    "\n",
    "        space = np.linspace(-1,1, self.int_steps)\n",
    "        emp_pdf = np.array([rv_diff(t, A_dist, B_dist) for t in space])\n",
    "        emp_cdf = np.cumsum(emp_pdf)\n",
    "        cut_off = (1 - self.confidence) / 2\n",
    "        lower = np.min(np.where(emp_cdf >= cut_off))\n",
    "        upper = np.max(np.where(emp_cdf <= self.confidence + cut_off))\n",
    "        return space[lower], space[upper]\n",
    "        Z = A_dist.rvs(self.int_steps) - B_dist.rvs(self.int_steps)        \n",
    "        return az.hdi(Z, hdi_prob=self.confidence)\n",
    "\n",
    "    def compute_posterior(self, X):\n",
    "        alpha = self.prior[0] + np.sum(X)\n",
    "        beta = self.prior[1] + len(X) - np.sum(X)\n",
    "        return alpha, beta\n",
    "\n",
    "    def test(self, A, B):\n",
    "        lower, upper = self.compute_statistic(A, B)        \n",
    "        if lower > 0:\n",
    "            return 1\n",
    "        elif upper < 0:\n",
    "            return -1\n",
    "        else:\n",
    "            return 0\n"
   ]
  },
  {
   "cell_type": "code",
   "execution_count": 20,
   "metadata": {},
   "outputs": [],
   "source": [
    "A = sts.bernoulli.rvs(p=0.4, size=8600, random_state=rng) \n",
    "B = sts.bernoulli.rvs(p=0.4 * (1 + 0.05), size=8600, random_state=rng)"
   ]
  },
  {
   "cell_type": "code",
   "execution_count": 21,
   "metadata": {},
   "outputs": [
    {
     "data": {
      "text/plain": [
       "(-3.460839054452272, 0.000539801676599106)"
      ]
     },
     "execution_count": 21,
     "metadata": {},
     "output_type": "execute_result"
    }
   ],
   "source": [
    "t1 = MeanTest()\n",
    "t1.compute_statistic(A, B)"
   ]
  },
  {
   "cell_type": "code",
   "execution_count": 27,
   "metadata": {},
   "outputs": [
    {
     "data": {
      "text/plain": [
       "array([-0.04135761, -0.01178847])"
      ]
     },
     "execution_count": 27,
     "metadata": {},
     "output_type": "execute_result"
    }
   ],
   "source": [
    "t2 = BetaDiff(int_steps=10_000)\n",
    "t2.compute_statistic(A, B)"
   ]
  },
  {
   "cell_type": "code",
   "execution_count": 26,
   "metadata": {},
   "outputs": [
    {
     "data": {
      "text/plain": [
       "array([-0.04031451, -0.01114474])"
      ]
     },
     "execution_count": 26,
     "metadata": {},
     "output_type": "execute_result"
    }
   ],
   "source": [
    "t2 = BetaDiff(int_steps=10_000)\n",
    "t2.compute_statistic(A, B)"
   ]
  },
  {
   "cell_type": "code",
   "execution_count": 326,
   "metadata": {},
   "outputs": [
    {
     "name": "stdout",
     "output_type": "stream",
     "text": [
      "8672\n"
     ]
    }
   ],
   "source": [
    "from statsmodels.stats.power import zt_ind_solve_power\n",
    "\n",
    "base_rate = 0.42\n",
    "detectable_lift = 0.05\n",
    "sd_base = np.sqrt(base_rate * (1 - base_rate))\n",
    "alpha = 0.05\n",
    "power = 0.8\n",
    "effect_size = base_rate * (detectable_lift) / sd_base\n",
    "\n",
    "n = int(np.ceil(zt_ind_solve_power(effect_size=effect_size, alpha=alpha, power=power, ratio=1)))\n",
    "print(int(n))"
   ]
  },
  {
   "cell_type": "code",
   "execution_count": 321,
   "metadata": {},
   "outputs": [],
   "source": [
    "def simulate(variants, tests, simulations = 10_000):\n",
    "    results = []\n",
    "    for i in tqdm(range(simulations)):\n",
    "        samples = [g() for g in variants]\n",
    "        outcomes = {\n",
    "            name: test().test(*samples) for name, test in tests.items()\n",
    "        }        \n",
    "        results.append(outcomes)\n",
    "    return results\n",
    "\n",
    "    \n",
    "def simulate_peeking(variants, tests, simulations= 10_000, step_size = 500, warmup = 2000):\n",
    "    results = []\n",
    "    sample_sizes = []  \n",
    "    complete_results = []  \n",
    "    for i in tqdm(range(simulations)):\n",
    "        zipped_samples = list(zip(*[g() for g in variants]))\n",
    "        total_len = len(zipped_samples)\n",
    "        test_objects = {name: test() for name, test in tests.items()}\n",
    "        complete_results.append({\n",
    "            name: test().test(*zip(*zipped_samples)) for name, test in tests.items()\n",
    "        })    \n",
    "\n",
    "        outcomes = {name: 0 for name in tests.keys()} #set initial outcomes to inconclusive\n",
    "        sample_size_required = {name: total_len for name in tests.keys()} #set initial sample sizes to max\n",
    "        \n",
    "        current_end = warmup - step_size\n",
    "        incomplete_tests = True\n",
    "        while ((incomplete_tests) & (current_end <= total_len)):\n",
    "            current_end += step_size\n",
    "            incomplete_tests = False\n",
    "            for name, outcome in outcomes.items():\n",
    "                if outcome == 0:\n",
    "                    seen_samples = list(zip(*zipped_samples[0:current_end]))\n",
    "                    result = test_objects[name].test(*seen_samples)\n",
    "                    outcomes[name] = result\n",
    "                    if result != 0:\n",
    "                        sample_size_required[name] = current_end\n",
    "                    else:\n",
    "                        incomplete_tests = True\n",
    "        results.append(outcomes)\n",
    "        sample_sizes.append(sample_size_required)        \n",
    "    return results, sample_sizes, complete_results"
   ]
  },
  {
   "cell_type": "code",
   "execution_count": 364,
   "metadata": {},
   "outputs": [
    {
     "name": "stderr",
     "output_type": "stream",
     "text": [
      "100%|██████████| 10000/10000 [00:07<00:00, 1418.47it/s]\n"
     ]
    }
   ],
   "source": [
    "n=8672\n",
    "detectable_lift = 0\n",
    "variants = [\n",
    "    lambda: sts.bernoulli.rvs(p=base_rate, size=n, random_state=rng), \n",
    "    lambda: sts.bernoulli.rvs(p=base_rate * (1 + detectable_lift), size=n, random_state=rng)\n",
    "]\n",
    "\n",
    "tests = {\n",
    "    \"MeanTest\": lambda: MeanTest(), \n",
    "    \"mSPRT\" : lambda: mSPRT(tau = 0.1)\n",
    "}\n",
    "\n",
    "outcomes = simulate(variants, tests, simulations=10_000)"
   ]
  },
  {
   "cell_type": "code",
   "execution_count": 365,
   "metadata": {},
   "outputs": [
    {
     "data": {
      "text/plain": [
       "0.9992"
      ]
     },
     "execution_count": 365,
     "metadata": {},
     "output_type": "execute_result"
    }
   ],
   "source": [
    "result_df = pd.DataFrame(outcomes)\n",
    "np.mean(0 == result_df['mSPRT'])"
   ]
  },
  {
   "cell_type": "code",
   "execution_count": 366,
   "metadata": {},
   "outputs": [
    {
     "name": "stderr",
     "output_type": "stream",
     "text": [
      "100%|██████████| 1000/1000 [00:49<00:00, 20.35it/s]\n"
     ]
    }
   ],
   "source": [
    "outcomes,sizes,full_sample_outcomes = simulate_peeking(variants, tests, simulations=1_000)"
   ]
  },
  {
   "cell_type": "code",
   "execution_count": 368,
   "metadata": {},
   "outputs": [
    {
     "name": "stdout",
     "output_type": "stream",
     "text": [
      "0.99\n"
     ]
    },
    {
     "data": {
      "text/plain": [
       "0.827"
      ]
     },
     "execution_count": 368,
     "metadata": {},
     "output_type": "execute_result"
    }
   ],
   "source": [
    "result_df = pd.DataFrame(outcomes)\n",
    "print(np.mean((0 == result_df['mSPRT'])))\n",
    "np.mean((0 == result_df['MeanTest']))"
   ]
  },
  {
   "cell_type": "code",
   "execution_count": null,
   "metadata": {},
   "outputs": [],
   "source": []
  }
 ],
 "metadata": {
  "kernelspec": {
   "display_name": "ABTests",
   "language": "python",
   "name": "python3"
  },
  "language_info": {
   "codemirror_mode": {
    "name": "ipython",
    "version": 3
   },
   "file_extension": ".py",
   "mimetype": "text/x-python",
   "name": "python",
   "nbconvert_exporter": "python",
   "pygments_lexer": "ipython3",
   "version": "3.10.8"
  },
  "orig_nbformat": 4,
  "vscode": {
   "interpreter": {
    "hash": "b1e6c2153ddfa7647ddf672dc8ad2c1383f5497c87247c39dd7bd08fb4823801"
   }
  }
 },
 "nbformat": 4,
 "nbformat_minor": 2
}
